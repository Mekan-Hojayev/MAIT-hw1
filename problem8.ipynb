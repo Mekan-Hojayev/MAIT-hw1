{
  "nbformat": 4,
  "nbformat_minor": 0,
  "metadata": {
    "colab": {
      "provenance": []
    },
    "kernelspec": {
      "name": "python3",
      "display_name": "Python 3"
    },
    "language_info": {
      "name": "python"
    }
  },
  "cells": [
    {
      "cell_type": "markdown",
      "source": [
        "**Problem Formulation:** Let's define the problem as a linear programming problem. We want to maximize the size of the code, which is equivalent to maximizing the number of codewords.\n",
        "\n",
        "*Objective:* Maximize the number of codewords Constraints:\n",
        "\n",
        "- The Hamming distance between any two codewords must be at least 4.\n",
        "- The codewords must be binary vectors of length 8."
      ],
      "metadata": {
        "id": "Qara3dnxyDK5"
      }
    },
    {
      "cell_type": "code",
      "execution_count": 1,
      "metadata": {
        "id": "SfcFWyvax726"
      },
      "outputs": [],
      "source": [
        "import numpy as np\n",
        "from scipy.optimize import linprog\n",
        "import math"
      ]
    },
    {
      "cell_type": "code",
      "source": [
        "n = 8\n",
        "d = 4\n",
        "\n",
        "codewords = np.array(np.meshgrid(*[[0, 1]]*n)).T.reshape(-1, n)\n",
        "c = np.ones(len(codewords))"
      ],
      "metadata": {
        "id": "ivQcQpUbyVLw"
      },
      "execution_count": 2,
      "outputs": []
    },
    {
      "cell_type": "markdown",
      "source": [
        "Constraints"
      ],
      "metadata": {
        "id": "fW2Ysm0QyufG"
      }
    },
    {
      "cell_type": "code",
      "source": [
        "A_ub = []\n",
        "b_ub = []\n",
        "for i in range(len(codewords)):\n",
        "    for j in range(i+1, len(codewords)):\n",
        "        if np.sum(codewords[i] != codewords[j]) < d:\n",
        "            constraint = np.zeros(len(codewords))\n",
        "            constraint[i] = 1\n",
        "            constraint[j] = 1\n",
        "            A_ub.append(constraint)\n",
        "            b_ub.append(1)\n",
        "\n",
        "A_ub = np.array(A_ub)\n",
        "b_ub = np.array(b_ub)"
      ],
      "metadata": {
        "id": "SKBJQfxPylFH"
      },
      "execution_count": 5,
      "outputs": []
    },
    {
      "cell_type": "markdown",
      "source": [
        "Then solving the linear programming problem"
      ],
      "metadata": {
        "id": "JVcJf2fcy4p0"
      }
    },
    {
      "cell_type": "code",
      "source": [
        "res = linprog(-c, A_ub=A_ub, b_ub=b_ub, bounds=(0, 1))\n",
        "res"
      ],
      "metadata": {
        "colab": {
          "base_uri": "https://localhost:8080/"
        },
        "id": "rrLocHiIy0ul",
        "outputId": "93015adf-302a-40de-dd05-6e1700db6dad"
      },
      "execution_count": 7,
      "outputs": [
        {
          "output_type": "execute_result",
          "data": {
            "text/plain": [
              "        message: Optimization terminated successfully. (HiGHS Status 7: Optimal)\n",
              "        success: True\n",
              "         status: 0\n",
              "            fun: -128.0\n",
              "              x: [ 5.000e-01  5.000e-01 ...  5.000e-01  5.000e-01]\n",
              "            nit: 256\n",
              "          lower:  residual: [ 5.000e-01  5.000e-01 ...  5.000e-01\n",
              "                              5.000e-01]\n",
              "                 marginals: [ 0.000e+00  0.000e+00 ...  0.000e+00\n",
              "                              0.000e+00]\n",
              "          upper:  residual: [ 5.000e-01  5.000e-01 ...  5.000e-01\n",
              "                              5.000e-01]\n",
              "                 marginals: [ 0.000e+00  0.000e+00 ...  0.000e+00\n",
              "                              0.000e+00]\n",
              "          eqlin:  residual: []\n",
              "                 marginals: []\n",
              "        ineqlin:  residual: [ 0.000e+00  0.000e+00 ...  0.000e+00\n",
              "                              0.000e+00]\n",
              "                 marginals: [-1.000e+00 -0.000e+00 ... -0.000e+00\n",
              "                             -1.000e+00]\n",
              " mip_node_count: 0\n",
              " mip_dual_bound: 0.0\n",
              "        mip_gap: 0.0"
            ]
          },
          "metadata": {},
          "execution_count": 7
        }
      ]
    },
    {
      "cell_type": "code",
      "source": [
        "max_size = int(math.floor(-res.fun))\n",
        "print(\"Maximal size of the linear code with n =\", n, \"and d =\", d, \"is:\", max_size)"
      ],
      "metadata": {
        "colab": {
          "base_uri": "https://localhost:8080/"
        },
        "id": "OjtVhID6zB-u",
        "outputId": "d67acbb8-3366-4910-ffd5-046c05b92486"
      },
      "execution_count": 8,
      "outputs": [
        {
          "output_type": "stream",
          "name": "stdout",
          "text": [
            "Maximal size of the linear code with n = 8 and d = 4 is: 128\n"
          ]
        }
      ]
    }
  ]
}