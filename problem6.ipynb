{
  "nbformat": 4,
  "nbformat_minor": 0,
  "metadata": {
    "colab": {
      "provenance": []
    },
    "kernelspec": {
      "name": "python3",
      "display_name": "Python 3"
    },
    "language_info": {
      "name": "python"
    },
    "widgets": {
      "application/vnd.jupyter.widget-state+json": {
        "1cd43e5239e34b3f986b93db50fad640": {
          "model_module": "@jupyter-widgets/controls",
          "model_name": "HBoxModel",
          "model_module_version": "1.5.0",
          "state": {
            "_dom_classes": [],
            "_model_module": "@jupyter-widgets/controls",
            "_model_module_version": "1.5.0",
            "_model_name": "HBoxModel",
            "_view_count": null,
            "_view_module": "@jupyter-widgets/controls",
            "_view_module_version": "1.5.0",
            "_view_name": "HBoxView",
            "box_style": "",
            "children": [
              "IPY_MODEL_ba901713d8c44221bb667842a02dc5ec",
              "IPY_MODEL_e62c7d26098b40bc8629a6885aa34d6f",
              "IPY_MODEL_bd8b9abcde71413a96635ec5e1f4a90e"
            ],
            "layout": "IPY_MODEL_405a3e7ee956485b806841ea37f9cd92"
          }
        },
        "ba901713d8c44221bb667842a02dc5ec": {
          "model_module": "@jupyter-widgets/controls",
          "model_name": "HTMLModel",
          "model_module_version": "1.5.0",
          "state": {
            "_dom_classes": [],
            "_model_module": "@jupyter-widgets/controls",
            "_model_module_version": "1.5.0",
            "_model_name": "HTMLModel",
            "_view_count": null,
            "_view_module": "@jupyter-widgets/controls",
            "_view_module_version": "1.5.0",
            "_view_name": "HTMLView",
            "description": "",
            "description_tooltip": null,
            "layout": "IPY_MODEL_9f600d3c51f74f0ab63738ecf08747c4",
            "placeholder": "​",
            "style": "IPY_MODEL_03cf36391e264a5c90a259b54bc97f90",
            "value": "100%"
          }
        },
        "e62c7d26098b40bc8629a6885aa34d6f": {
          "model_module": "@jupyter-widgets/controls",
          "model_name": "FloatProgressModel",
          "model_module_version": "1.5.0",
          "state": {
            "_dom_classes": [],
            "_model_module": "@jupyter-widgets/controls",
            "_model_module_version": "1.5.0",
            "_model_name": "FloatProgressModel",
            "_view_count": null,
            "_view_module": "@jupyter-widgets/controls",
            "_view_module_version": "1.5.0",
            "_view_name": "ProgressView",
            "bar_style": "success",
            "description": "",
            "description_tooltip": null,
            "layout": "IPY_MODEL_1212c3d3bb9945208ef6957dfec80444",
            "max": 30,
            "min": 0,
            "orientation": "horizontal",
            "style": "IPY_MODEL_8986efabac0e43ba90b56a5a6bffabf0",
            "value": 30
          }
        },
        "bd8b9abcde71413a96635ec5e1f4a90e": {
          "model_module": "@jupyter-widgets/controls",
          "model_name": "HTMLModel",
          "model_module_version": "1.5.0",
          "state": {
            "_dom_classes": [],
            "_model_module": "@jupyter-widgets/controls",
            "_model_module_version": "1.5.0",
            "_model_name": "HTMLModel",
            "_view_count": null,
            "_view_module": "@jupyter-widgets/controls",
            "_view_module_version": "1.5.0",
            "_view_name": "HTMLView",
            "description": "",
            "description_tooltip": null,
            "layout": "IPY_MODEL_0c292cc4511b44a8a74139870be57de6",
            "placeholder": "​",
            "style": "IPY_MODEL_1e0fd28cac2241c8a530fd674fdc4037",
            "value": " 30/30 [06:58&lt;00:00, 12.90s/it]"
          }
        },
        "405a3e7ee956485b806841ea37f9cd92": {
          "model_module": "@jupyter-widgets/base",
          "model_name": "LayoutModel",
          "model_module_version": "1.2.0",
          "state": {
            "_model_module": "@jupyter-widgets/base",
            "_model_module_version": "1.2.0",
            "_model_name": "LayoutModel",
            "_view_count": null,
            "_view_module": "@jupyter-widgets/base",
            "_view_module_version": "1.2.0",
            "_view_name": "LayoutView",
            "align_content": null,
            "align_items": null,
            "align_self": null,
            "border": null,
            "bottom": null,
            "display": null,
            "flex": null,
            "flex_flow": null,
            "grid_area": null,
            "grid_auto_columns": null,
            "grid_auto_flow": null,
            "grid_auto_rows": null,
            "grid_column": null,
            "grid_gap": null,
            "grid_row": null,
            "grid_template_areas": null,
            "grid_template_columns": null,
            "grid_template_rows": null,
            "height": null,
            "justify_content": null,
            "justify_items": null,
            "left": null,
            "margin": null,
            "max_height": null,
            "max_width": null,
            "min_height": null,
            "min_width": null,
            "object_fit": null,
            "object_position": null,
            "order": null,
            "overflow": null,
            "overflow_x": null,
            "overflow_y": null,
            "padding": null,
            "right": null,
            "top": null,
            "visibility": null,
            "width": null
          }
        },
        "9f600d3c51f74f0ab63738ecf08747c4": {
          "model_module": "@jupyter-widgets/base",
          "model_name": "LayoutModel",
          "model_module_version": "1.2.0",
          "state": {
            "_model_module": "@jupyter-widgets/base",
            "_model_module_version": "1.2.0",
            "_model_name": "LayoutModel",
            "_view_count": null,
            "_view_module": "@jupyter-widgets/base",
            "_view_module_version": "1.2.0",
            "_view_name": "LayoutView",
            "align_content": null,
            "align_items": null,
            "align_self": null,
            "border": null,
            "bottom": null,
            "display": null,
            "flex": null,
            "flex_flow": null,
            "grid_area": null,
            "grid_auto_columns": null,
            "grid_auto_flow": null,
            "grid_auto_rows": null,
            "grid_column": null,
            "grid_gap": null,
            "grid_row": null,
            "grid_template_areas": null,
            "grid_template_columns": null,
            "grid_template_rows": null,
            "height": null,
            "justify_content": null,
            "justify_items": null,
            "left": null,
            "margin": null,
            "max_height": null,
            "max_width": null,
            "min_height": null,
            "min_width": null,
            "object_fit": null,
            "object_position": null,
            "order": null,
            "overflow": null,
            "overflow_x": null,
            "overflow_y": null,
            "padding": null,
            "right": null,
            "top": null,
            "visibility": null,
            "width": null
          }
        },
        "03cf36391e264a5c90a259b54bc97f90": {
          "model_module": "@jupyter-widgets/controls",
          "model_name": "DescriptionStyleModel",
          "model_module_version": "1.5.0",
          "state": {
            "_model_module": "@jupyter-widgets/controls",
            "_model_module_version": "1.5.0",
            "_model_name": "DescriptionStyleModel",
            "_view_count": null,
            "_view_module": "@jupyter-widgets/base",
            "_view_module_version": "1.2.0",
            "_view_name": "StyleView",
            "description_width": ""
          }
        },
        "1212c3d3bb9945208ef6957dfec80444": {
          "model_module": "@jupyter-widgets/base",
          "model_name": "LayoutModel",
          "model_module_version": "1.2.0",
          "state": {
            "_model_module": "@jupyter-widgets/base",
            "_model_module_version": "1.2.0",
            "_model_name": "LayoutModel",
            "_view_count": null,
            "_view_module": "@jupyter-widgets/base",
            "_view_module_version": "1.2.0",
            "_view_name": "LayoutView",
            "align_content": null,
            "align_items": null,
            "align_self": null,
            "border": null,
            "bottom": null,
            "display": null,
            "flex": null,
            "flex_flow": null,
            "grid_area": null,
            "grid_auto_columns": null,
            "grid_auto_flow": null,
            "grid_auto_rows": null,
            "grid_column": null,
            "grid_gap": null,
            "grid_row": null,
            "grid_template_areas": null,
            "grid_template_columns": null,
            "grid_template_rows": null,
            "height": null,
            "justify_content": null,
            "justify_items": null,
            "left": null,
            "margin": null,
            "max_height": null,
            "max_width": null,
            "min_height": null,
            "min_width": null,
            "object_fit": null,
            "object_position": null,
            "order": null,
            "overflow": null,
            "overflow_x": null,
            "overflow_y": null,
            "padding": null,
            "right": null,
            "top": null,
            "visibility": null,
            "width": null
          }
        },
        "8986efabac0e43ba90b56a5a6bffabf0": {
          "model_module": "@jupyter-widgets/controls",
          "model_name": "ProgressStyleModel",
          "model_module_version": "1.5.0",
          "state": {
            "_model_module": "@jupyter-widgets/controls",
            "_model_module_version": "1.5.0",
            "_model_name": "ProgressStyleModel",
            "_view_count": null,
            "_view_module": "@jupyter-widgets/base",
            "_view_module_version": "1.2.0",
            "_view_name": "StyleView",
            "bar_color": null,
            "description_width": ""
          }
        },
        "0c292cc4511b44a8a74139870be57de6": {
          "model_module": "@jupyter-widgets/base",
          "model_name": "LayoutModel",
          "model_module_version": "1.2.0",
          "state": {
            "_model_module": "@jupyter-widgets/base",
            "_model_module_version": "1.2.0",
            "_model_name": "LayoutModel",
            "_view_count": null,
            "_view_module": "@jupyter-widgets/base",
            "_view_module_version": "1.2.0",
            "_view_name": "LayoutView",
            "align_content": null,
            "align_items": null,
            "align_self": null,
            "border": null,
            "bottom": null,
            "display": null,
            "flex": null,
            "flex_flow": null,
            "grid_area": null,
            "grid_auto_columns": null,
            "grid_auto_flow": null,
            "grid_auto_rows": null,
            "grid_column": null,
            "grid_gap": null,
            "grid_row": null,
            "grid_template_areas": null,
            "grid_template_columns": null,
            "grid_template_rows": null,
            "height": null,
            "justify_content": null,
            "justify_items": null,
            "left": null,
            "margin": null,
            "max_height": null,
            "max_width": null,
            "min_height": null,
            "min_width": null,
            "object_fit": null,
            "object_position": null,
            "order": null,
            "overflow": null,
            "overflow_x": null,
            "overflow_y": null,
            "padding": null,
            "right": null,
            "top": null,
            "visibility": null,
            "width": null
          }
        },
        "1e0fd28cac2241c8a530fd674fdc4037": {
          "model_module": "@jupyter-widgets/controls",
          "model_name": "DescriptionStyleModel",
          "model_module_version": "1.5.0",
          "state": {
            "_model_module": "@jupyter-widgets/controls",
            "_model_module_version": "1.5.0",
            "_model_name": "DescriptionStyleModel",
            "_view_count": null,
            "_view_module": "@jupyter-widgets/base",
            "_view_module_version": "1.2.0",
            "_view_name": "StyleView",
            "description_width": ""
          }
        },
        "d517bdfe3a0742ef9f02bcfcd84f452b": {
          "model_module": "@jupyter-widgets/controls",
          "model_name": "HBoxModel",
          "model_module_version": "1.5.0",
          "state": {
            "_dom_classes": [],
            "_model_module": "@jupyter-widgets/controls",
            "_model_module_version": "1.5.0",
            "_model_name": "HBoxModel",
            "_view_count": null,
            "_view_module": "@jupyter-widgets/controls",
            "_view_module_version": "1.5.0",
            "_view_name": "HBoxView",
            "box_style": "",
            "children": [
              "IPY_MODEL_6872f59ca2324620bcd0434e9152640e",
              "IPY_MODEL_b2c8f8f1ad0c4b418b342e6a58b00527",
              "IPY_MODEL_f294474e758b40f2a2e112b90e3af74a"
            ],
            "layout": "IPY_MODEL_9d3aba7d61e74cc38b239ce1584bae90"
          }
        },
        "6872f59ca2324620bcd0434e9152640e": {
          "model_module": "@jupyter-widgets/controls",
          "model_name": "HTMLModel",
          "model_module_version": "1.5.0",
          "state": {
            "_dom_classes": [],
            "_model_module": "@jupyter-widgets/controls",
            "_model_module_version": "1.5.0",
            "_model_name": "HTMLModel",
            "_view_count": null,
            "_view_module": "@jupyter-widgets/controls",
            "_view_module_version": "1.5.0",
            "_view_name": "HTMLView",
            "description": "",
            "description_tooltip": null,
            "layout": "IPY_MODEL_5a84a61bbdb84fada7d8b40b44f85d7a",
            "placeholder": "​",
            "style": "IPY_MODEL_3553197bbd574b75af5a366c42bc31d2",
            "value": "100%"
          }
        },
        "b2c8f8f1ad0c4b418b342e6a58b00527": {
          "model_module": "@jupyter-widgets/controls",
          "model_name": "FloatProgressModel",
          "model_module_version": "1.5.0",
          "state": {
            "_dom_classes": [],
            "_model_module": "@jupyter-widgets/controls",
            "_model_module_version": "1.5.0",
            "_model_name": "FloatProgressModel",
            "_view_count": null,
            "_view_module": "@jupyter-widgets/controls",
            "_view_module_version": "1.5.0",
            "_view_name": "ProgressView",
            "bar_style": "success",
            "description": "",
            "description_tooltip": null,
            "layout": "IPY_MODEL_5a99d60595a94668bb69b64d067986e3",
            "max": 30,
            "min": 0,
            "orientation": "horizontal",
            "style": "IPY_MODEL_84a2b03a941443dbbb0fef53610d73d7",
            "value": 30
          }
        },
        "f294474e758b40f2a2e112b90e3af74a": {
          "model_module": "@jupyter-widgets/controls",
          "model_name": "HTMLModel",
          "model_module_version": "1.5.0",
          "state": {
            "_dom_classes": [],
            "_model_module": "@jupyter-widgets/controls",
            "_model_module_version": "1.5.0",
            "_model_name": "HTMLModel",
            "_view_count": null,
            "_view_module": "@jupyter-widgets/controls",
            "_view_module_version": "1.5.0",
            "_view_name": "HTMLView",
            "description": "",
            "description_tooltip": null,
            "layout": "IPY_MODEL_58a14fce9ca843389c8f727980cdabc3",
            "placeholder": "​",
            "style": "IPY_MODEL_e6d1a5c263894caf9cfb0182eb4a5e4a",
            "value": " 30/30 [00:14&lt;00:00,  2.29it/s]"
          }
        },
        "9d3aba7d61e74cc38b239ce1584bae90": {
          "model_module": "@jupyter-widgets/base",
          "model_name": "LayoutModel",
          "model_module_version": "1.2.0",
          "state": {
            "_model_module": "@jupyter-widgets/base",
            "_model_module_version": "1.2.0",
            "_model_name": "LayoutModel",
            "_view_count": null,
            "_view_module": "@jupyter-widgets/base",
            "_view_module_version": "1.2.0",
            "_view_name": "LayoutView",
            "align_content": null,
            "align_items": null,
            "align_self": null,
            "border": null,
            "bottom": null,
            "display": null,
            "flex": null,
            "flex_flow": null,
            "grid_area": null,
            "grid_auto_columns": null,
            "grid_auto_flow": null,
            "grid_auto_rows": null,
            "grid_column": null,
            "grid_gap": null,
            "grid_row": null,
            "grid_template_areas": null,
            "grid_template_columns": null,
            "grid_template_rows": null,
            "height": null,
            "justify_content": null,
            "justify_items": null,
            "left": null,
            "margin": null,
            "max_height": null,
            "max_width": null,
            "min_height": null,
            "min_width": null,
            "object_fit": null,
            "object_position": null,
            "order": null,
            "overflow": null,
            "overflow_x": null,
            "overflow_y": null,
            "padding": null,
            "right": null,
            "top": null,
            "visibility": null,
            "width": null
          }
        },
        "5a84a61bbdb84fada7d8b40b44f85d7a": {
          "model_module": "@jupyter-widgets/base",
          "model_name": "LayoutModel",
          "model_module_version": "1.2.0",
          "state": {
            "_model_module": "@jupyter-widgets/base",
            "_model_module_version": "1.2.0",
            "_model_name": "LayoutModel",
            "_view_count": null,
            "_view_module": "@jupyter-widgets/base",
            "_view_module_version": "1.2.0",
            "_view_name": "LayoutView",
            "align_content": null,
            "align_items": null,
            "align_self": null,
            "border": null,
            "bottom": null,
            "display": null,
            "flex": null,
            "flex_flow": null,
            "grid_area": null,
            "grid_auto_columns": null,
            "grid_auto_flow": null,
            "grid_auto_rows": null,
            "grid_column": null,
            "grid_gap": null,
            "grid_row": null,
            "grid_template_areas": null,
            "grid_template_columns": null,
            "grid_template_rows": null,
            "height": null,
            "justify_content": null,
            "justify_items": null,
            "left": null,
            "margin": null,
            "max_height": null,
            "max_width": null,
            "min_height": null,
            "min_width": null,
            "object_fit": null,
            "object_position": null,
            "order": null,
            "overflow": null,
            "overflow_x": null,
            "overflow_y": null,
            "padding": null,
            "right": null,
            "top": null,
            "visibility": null,
            "width": null
          }
        },
        "3553197bbd574b75af5a366c42bc31d2": {
          "model_module": "@jupyter-widgets/controls",
          "model_name": "DescriptionStyleModel",
          "model_module_version": "1.5.0",
          "state": {
            "_model_module": "@jupyter-widgets/controls",
            "_model_module_version": "1.5.0",
            "_model_name": "DescriptionStyleModel",
            "_view_count": null,
            "_view_module": "@jupyter-widgets/base",
            "_view_module_version": "1.2.0",
            "_view_name": "StyleView",
            "description_width": ""
          }
        },
        "5a99d60595a94668bb69b64d067986e3": {
          "model_module": "@jupyter-widgets/base",
          "model_name": "LayoutModel",
          "model_module_version": "1.2.0",
          "state": {
            "_model_module": "@jupyter-widgets/base",
            "_model_module_version": "1.2.0",
            "_model_name": "LayoutModel",
            "_view_count": null,
            "_view_module": "@jupyter-widgets/base",
            "_view_module_version": "1.2.0",
            "_view_name": "LayoutView",
            "align_content": null,
            "align_items": null,
            "align_self": null,
            "border": null,
            "bottom": null,
            "display": null,
            "flex": null,
            "flex_flow": null,
            "grid_area": null,
            "grid_auto_columns": null,
            "grid_auto_flow": null,
            "grid_auto_rows": null,
            "grid_column": null,
            "grid_gap": null,
            "grid_row": null,
            "grid_template_areas": null,
            "grid_template_columns": null,
            "grid_template_rows": null,
            "height": null,
            "justify_content": null,
            "justify_items": null,
            "left": null,
            "margin": null,
            "max_height": null,
            "max_width": null,
            "min_height": null,
            "min_width": null,
            "object_fit": null,
            "object_position": null,
            "order": null,
            "overflow": null,
            "overflow_x": null,
            "overflow_y": null,
            "padding": null,
            "right": null,
            "top": null,
            "visibility": null,
            "width": null
          }
        },
        "84a2b03a941443dbbb0fef53610d73d7": {
          "model_module": "@jupyter-widgets/controls",
          "model_name": "ProgressStyleModel",
          "model_module_version": "1.5.0",
          "state": {
            "_model_module": "@jupyter-widgets/controls",
            "_model_module_version": "1.5.0",
            "_model_name": "ProgressStyleModel",
            "_view_count": null,
            "_view_module": "@jupyter-widgets/base",
            "_view_module_version": "1.2.0",
            "_view_name": "StyleView",
            "bar_color": null,
            "description_width": ""
          }
        },
        "58a14fce9ca843389c8f727980cdabc3": {
          "model_module": "@jupyter-widgets/base",
          "model_name": "LayoutModel",
          "model_module_version": "1.2.0",
          "state": {
            "_model_module": "@jupyter-widgets/base",
            "_model_module_version": "1.2.0",
            "_model_name": "LayoutModel",
            "_view_count": null,
            "_view_module": "@jupyter-widgets/base",
            "_view_module_version": "1.2.0",
            "_view_name": "LayoutView",
            "align_content": null,
            "align_items": null,
            "align_self": null,
            "border": null,
            "bottom": null,
            "display": null,
            "flex": null,
            "flex_flow": null,
            "grid_area": null,
            "grid_auto_columns": null,
            "grid_auto_flow": null,
            "grid_auto_rows": null,
            "grid_column": null,
            "grid_gap": null,
            "grid_row": null,
            "grid_template_areas": null,
            "grid_template_columns": null,
            "grid_template_rows": null,
            "height": null,
            "justify_content": null,
            "justify_items": null,
            "left": null,
            "margin": null,
            "max_height": null,
            "max_width": null,
            "min_height": null,
            "min_width": null,
            "object_fit": null,
            "object_position": null,
            "order": null,
            "overflow": null,
            "overflow_x": null,
            "overflow_y": null,
            "padding": null,
            "right": null,
            "top": null,
            "visibility": null,
            "width": null
          }
        },
        "e6d1a5c263894caf9cfb0182eb4a5e4a": {
          "model_module": "@jupyter-widgets/controls",
          "model_name": "DescriptionStyleModel",
          "model_module_version": "1.5.0",
          "state": {
            "_model_module": "@jupyter-widgets/controls",
            "_model_module_version": "1.5.0",
            "_model_name": "DescriptionStyleModel",
            "_view_count": null,
            "_view_module": "@jupyter-widgets/base",
            "_view_module_version": "1.2.0",
            "_view_name": "StyleView",
            "description_width": ""
          }
        }
      }
    }
  },
  "cells": [
    {
      "cell_type": "code",
      "execution_count": 4,
      "metadata": {
        "id": "zmIWNJ1sctjI"
      },
      "outputs": [],
      "source": [
        "import numpy as np\n",
        "import scipy\n",
        "import math\n",
        "from tqdm.autonotebook import tqdm\n",
        "import matplotlib.pyplot as plt\n",
        "%matplotlib inline"
      ]
    },
    {
      "cell_type": "code",
      "source": [
        "G = np.array([[1, 0, 0, 0, 1, 1, 0],\n",
        "              [0, 1, 0, 0, 1, 0, 1],\n",
        "              [0, 0, 1, 0, 0, 1, 1],\n",
        "              [0, 0, 0, 1, 1, 1, 1]])\n",
        "H = np.array([[1, 1, 0, 1, 1, 0, 0],\n",
        "              [1, 0, 1, 1, 0, 1, 0],\n",
        "              [0, 1, 1, 1, 0, 0, 1]])\n",
        "mes = np.array([[0, 0, 0, 0],\n",
        "                     [0, 0, 0, 1],\n",
        "                     [0, 0, 1, 0],\n",
        "                     [0, 0, 1, 1],\n",
        "                     [0, 1, 0, 0],\n",
        "                     [0, 1, 0, 1],\n",
        "                     [0, 1, 1, 0],\n",
        "                     [0, 1, 1, 1],\n",
        "                     [1, 0, 0, 0],\n",
        "                     [1, 0, 0, 1],\n",
        "                     [1, 0, 1, 0],\n",
        "                     [1, 0, 1, 1],\n",
        "                     [1, 1, 0, 0],\n",
        "                     [1, 1, 0, 1],\n",
        "                     [1, 1, 1, 0],\n",
        "                     [1, 1, 1, 1]])\n",
        "cdwds = (mes@G % 2)"
      ],
      "metadata": {
        "id": "EoW6p5ZDc2Mc"
      },
      "execution_count": 5,
      "outputs": []
    },
    {
      "cell_type": "code",
      "source": [
        "constraint_val = np.array([0, 0, 0, 0, 2, 2, 2, 2, 0, 0, 0, 0, 2, 2, 2, 2, 0, 0, 0, 0, 2, 2, 2, 2])\n",
        "\n",
        "bounds = np.array([(0,1), (0,1), (0,1), (0,1), (0,1), (0,1), (0,1)])\n",
        "constraint_coff = np.array([[1, -1, 0, -1, -1, 0, 0],\n",
        "                           [-1, 1, 0, -1, -1, 0, 0],\n",
        "                           [-1, -1, 0, 1, -1, 0, 0],\n",
        "                           [-1, -1, 0, -1, 1, 0, 0],\n",
        "                           [1, 1, 0, 1, -1, 0, 0],\n",
        "                           [-1, 1, 0, 1, 1, 0, 1],\n",
        "                           [1, -1, 0, 1, 1, 0, 0],\n",
        "                           [1, 1, 0, -1, 1, 0, 0],\n",
        "                           [1, 0, -1, -1, 0, -1, 0],\n",
        "                           [-1, 0, 1, -1, 0, -1, 0],\n",
        "                           [-1, 0, -1, 1, 0, -1, 0],\n",
        "                           [-1, 0, -1, -1, 0, 1, 0],\n",
        "                           [1, 0, 1, 1, 0, -1, 0],\n",
        "                           [-1, 0, 1, 1, 0, 1, 0],\n",
        "                           [1, 0, -1, 1, 0, 1, 0],\n",
        "                           [1, 0, 1, -1, 0, 1, 0],\n",
        "                           [0, 1, -1, -1, 0, 0, -1],\n",
        "                           [0, -1, 1, -1, 0, 0, -1],\n",
        "                           [0, -1, -1, 1, 0, 0, -1],\n",
        "                           [0, -1, -1, -1, 0, 0, 1],\n",
        "                           [0, 1, 1, 1, 0, 0, -1],\n",
        "                           [0, -1, 1, 1, 0, 0, 1],\n",
        "                           [0, 1, -1, 1, 0, 0, 1],\n",
        "                           [0, 1, 1, -1, 0, 0, 1]])"
      ],
      "metadata": {
        "id": "T4UoxP6Zc35v"
      },
      "execution_count": 6,
      "outputs": []
    },
    {
      "cell_type": "markdown",
      "source": [
        "### Deriving LP Decoding Rules\n",
        "\n",
        "For LP decoding, we need to find a vector $\\hat{x}$ that minimizes $|\\hat{x}|_1$ (the L1-norm of $\\hat{x}$) subject to the constraint $H\\hat{x}^T = 0 \\ (\\text{mod } 2)$.\n",
        "\n",
        "This can be formulated as a linear program:\n",
        "\n",
        "\n",
        "\\begin{align*}\n",
        "\\text{minimize} \\quad & \\sum_{i=1}^{7} \\hat{x}_i \\\\\n",
        "\\text{subject to} \\quad & H\\hat{x}^T = 0 \\ (\\text{mod } 2) \\\n",
        "& 0 \\leq \\hat{x}_i \\leq 1, \\quad i = 1, \\ldots, 7\n",
        "\\end{align*}"
      ],
      "metadata": {
        "id": "IAXlDU7zn5HS"
      }
    },
    {
      "cell_type": "code",
      "source": [
        "# Preformance for LP\n",
        "snr = np.arange(-5, 10, 0.5)\n",
        "n_experiments = 10000\n",
        "N = 7\n",
        "ber_lp = []\n",
        "for i in tqdm(range(len(snr))):\n",
        "    codewords = np.random.randint(0, 16, (n_experiments))\n",
        "    error_count = 0\n",
        "    for j in range(n_experiments):\n",
        "        noise = (np.random.normal(0.5, 1/2, size=(N,)) + 1j * np.random.normal(0.5, 1/2, size=(N,))) / 2\n",
        "        cdwd = cdwds[codewords[j]]\n",
        "        rec = cdwd + np.sqrt(10**(-snr[i]/10))*noise\n",
        "        cost = np.log(np.exp(-np.power(np.abs(rec), 2)) / np.exp(-np.power(np.abs(rec-1), 2)))\n",
        "        opt = scipy.optimize.linprog(c=cost, A_ub=constraint_coff, b_ub=constraint_val, bounds=bounds, method='highs')\n",
        "        cdwd_ = np.round(opt.x, 0).astype(int)\n",
        "        error_count += np.sum(cdwd != cdwd_)\n",
        "    ber_lp.append(error_count / (7 * n_experiments))"
      ],
      "metadata": {
        "colab": {
          "base_uri": "https://localhost:8080/",
          "height": 49,
          "referenced_widgets": [
            "1cd43e5239e34b3f986b93db50fad640",
            "ba901713d8c44221bb667842a02dc5ec",
            "e62c7d26098b40bc8629a6885aa34d6f",
            "bd8b9abcde71413a96635ec5e1f4a90e",
            "405a3e7ee956485b806841ea37f9cd92",
            "9f600d3c51f74f0ab63738ecf08747c4",
            "03cf36391e264a5c90a259b54bc97f90",
            "1212c3d3bb9945208ef6957dfec80444",
            "8986efabac0e43ba90b56a5a6bffabf0",
            "0c292cc4511b44a8a74139870be57de6",
            "1e0fd28cac2241c8a530fd674fdc4037"
          ]
        },
        "id": "GkXtpq6Tc-cU",
        "outputId": "8cb72274-1a04-4674-f96d-3b17935099f1"
      },
      "execution_count": 7,
      "outputs": [
        {
          "output_type": "display_data",
          "data": {
            "text/plain": [
              "  0%|          | 0/30 [00:00<?, ?it/s]"
            ],
            "application/vnd.jupyter.widget-view+json": {
              "version_major": 2,
              "version_minor": 0,
              "model_id": "1cd43e5239e34b3f986b93db50fad640"
            }
          },
          "metadata": {}
        }
      ]
    },
    {
      "cell_type": "markdown",
      "source": [
        "### MAP Decoding\n",
        "\n",
        "For MAP decoding, we assume a binary symmetric channel with bit flip probability $p$. The MAP decoder finds the codeword $\\hat{x}$ that maximizes the conditional probability $P(\\hat{x}|\\mathbf{y})$, where $\\mathbf{y}$ is the received vector.\n",
        "\n",
        "This is equivalent to finding the codeword $\\hat{x}$ that minimizes the Hamming distance $d_H(\\hat{x}, \\mathbf{y})$ between $\\hat{x}$ and $\\mathbf{y}$."
      ],
      "metadata": {
        "id": "CzAOJaadoP0Q"
      }
    },
    {
      "cell_type": "code",
      "source": [
        "# Preformance for MAP\n",
        "ber_map = []\n",
        "for i in tqdm(range(len(snr))):\n",
        "    codewords = np.random.randint(0, 16, (n_experiments))\n",
        "    error_count = 0\n",
        "    for j in range(n_experiments):\n",
        "        noise = (np.random.normal(0.5, 1/2, size=(N,)) + 1j * np.random.normal(0.5, 1/2, size=(N,))) / 2\n",
        "        cdwd = cdwds[codewords[j]]\n",
        "        rec = cdwd + np.sqrt(10**(-snr[i]/10))*noise\n",
        "        cost = np.prod(np.exp(-np.power(np.abs(cdwds - rec), 2)), 1)\n",
        "        cost_idx = np.argmax(cost)\n",
        "        cdwd_ = cdwds[cost_idx]\n",
        "        error_count += np.sum(cdwd != cdwd_)\n",
        "    ber_map.append(error_count / (7 * n_experiments))"
      ],
      "metadata": {
        "colab": {
          "base_uri": "https://localhost:8080/",
          "height": 49,
          "referenced_widgets": [
            "d517bdfe3a0742ef9f02bcfcd84f452b",
            "6872f59ca2324620bcd0434e9152640e",
            "b2c8f8f1ad0c4b418b342e6a58b00527",
            "f294474e758b40f2a2e112b90e3af74a",
            "9d3aba7d61e74cc38b239ce1584bae90",
            "5a84a61bbdb84fada7d8b40b44f85d7a",
            "3553197bbd574b75af5a366c42bc31d2",
            "5a99d60595a94668bb69b64d067986e3",
            "84a2b03a941443dbbb0fef53610d73d7",
            "58a14fce9ca843389c8f727980cdabc3",
            "e6d1a5c263894caf9cfb0182eb4a5e4a"
          ]
        },
        "id": "dKGbU5kFenSW",
        "outputId": "b9a9733e-f080-4e78-ae10-71c8f7876203"
      },
      "execution_count": 8,
      "outputs": [
        {
          "output_type": "display_data",
          "data": {
            "text/plain": [
              "  0%|          | 0/30 [00:00<?, ?it/s]"
            ],
            "application/vnd.jupyter.widget-view+json": {
              "version_major": 2,
              "version_minor": 0,
              "model_id": "d517bdfe3a0742ef9f02bcfcd84f452b"
            }
          },
          "metadata": {}
        }
      ]
    },
    {
      "cell_type": "code",
      "source": [
        "plt.semilogy(snr, ber_lp, label='LP')\n",
        "plt.semilogy(snr, ber_map, label='MAP')\n",
        "\n",
        "plt.xlabel('SNR (dB)')\n",
        "plt.ylabel('BER')\n",
        "plt.legend()\n",
        "\n",
        "plt.show()"
      ],
      "metadata": {
        "colab": {
          "base_uri": "https://localhost:8080/",
          "height": 449
        },
        "id": "3ggAoFiGe43a",
        "outputId": "0dd6f464-58b9-4fef-9464-15a27d06f603"
      },
      "execution_count": 10,
      "outputs": [
        {
          "output_type": "display_data",
          "data": {
            "text/plain": [
              "<Figure size 640x480 with 1 Axes>"
            ],
            "image/png": "[encoded data removed]"
          },
          "metadata": {}
        }
      ]
    },
    {
      "cell_type": "markdown",
      "source": [
        "### Results and Discussion\n",
        "The simulation results show that the MAP decoder outperforms the LP decoder in terms of BER for all values of 𝑝. This is expected since the MAP decoder explicitly takes into account the channel statistics (bit flip probability\n",
        "𝑝), whereas the LP does not.\n",
        "\n",
        "However, the LP decoder has the advantage of being a convex optimization problem that can be solved efficiently using standard linear programming algorithms. In contrast, the MAP decoder requires an exhaustive search over all possible codewords, which becomes computationally infeasible for larger codes."
      ],
      "metadata": {
        "id": "r67yuiBuoZun"
      }
    },
    {
      "cell_type": "code",
      "source": [],
      "metadata": {
        "id": "g8nTlkVIojEf"
      },
      "execution_count": null,
      "outputs": []
    }
  ]
}