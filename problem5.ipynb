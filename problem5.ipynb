{
 "cells": [
  {
   "cell_type": "code",
   "execution_count": 60,
   "metadata": {},
   "outputs": [],
   "source": [
    "import numpy as np\n",
    "from scipy.optimize import minimize"
   ]
  },
  {
   "cell_type": "markdown",
   "metadata": {},
   "source": [
    "# a) Density Evolution:"
   ]
  },
  {
   "cell_type": "code",
   "execution_count": 37,
   "metadata": {},
   "outputs": [],
   "source": [
    "def density_evolution(epsilon, lambda_coeffs, rho_coeffs, max_iterations=100, tolerance=1e-6):\n",
    "    x = epsilon\n",
    "    for _ in range(max_iterations):\n",
    "        x_prev = x\n",
    "        x = epsilon * np.polyval(lambda_coeffs, 1 - np.polyval(rho_coeffs, 1 - x))\n",
    "        if abs(x - x_prev) < tolerance:\n",
    "            break\n",
    "    return x\n",
    "\n",
    "def objective_function(coeffs, epsilon):\n",
    "    lambda_coeffs = coeffs[:len(coeffs)//2]\n",
    "    rho_coeffs = coeffs[len(coeffs)//2:]\n",
    "    return density_evolution(epsilon, lambda_coeffs, rho_coeffs)"
   ]
  },
  {
   "cell_type": "markdown",
   "metadata": {},
   "source": [
    "From problem we know that code_rate = $\\frac{1}{4}.$ Also we will set the initial guess for lambda and rho coefficients.\n",
    "\n",
    "Then we will set optimization bounds "
   ]
  },
  {
   "cell_type": "code",
   "execution_count": 38,
   "metadata": {},
   "outputs": [],
   "source": [
    "code_rate = 1/4\n",
    "\n",
    "lambda_init = np.array([0.4, 0.3, 0.3])\n",
    "rho_init = np.array([0.4, 0.3, 0.3])\n",
    "\n",
    "bounds = [(0, 1)] * (len(lambda_init) + len(rho_init))"
   ]
  },
  {
   "cell_type": "markdown",
   "metadata": {},
   "source": [
    "The equality constraint for code rate"
   ]
  },
  {
   "cell_type": "code",
   "execution_count": 39,
   "metadata": {},
   "outputs": [],
   "source": [
    "def rate_constraint(coeffs):\n",
    "    lambda_coeffs = coeffs[:len(coeffs)//2]\n",
    "    rho_coeffs = coeffs[len(coeffs)//2:]\n",
    "    return 1 - np.sum(rho_coeffs) / np.sum(lambda_coeffs) - code_rate\n",
    "\n",
    "constraint = {'type': 'eq', 'fun': rate_constraint}"
   ]
  },
  {
   "cell_type": "markdown",
   "metadata": {},
   "source": [
    "Lets perform the optimization"
   ]
  },
  {
   "cell_type": "code",
   "execution_count": 40,
   "metadata": {},
   "outputs": [],
   "source": [
    "result = minimize(objective_function, np.concatenate((lambda_init, rho_init)), args=(0.5,),\n",
    "                  method='SLSQP', bounds=bounds, constraints=constraint)\n",
    "\n",
    "optimized_coeffs = result.x\n",
    "lambda_opt = optimized_coeffs[:len(optimized_coeffs)//2]\n",
    "rho_opt = optimized_coeffs[len(optimized_coeffs)//2:]"
   ]
  },
  {
   "cell_type": "code",
   "execution_count": 41,
   "metadata": {},
   "outputs": [
    {
     "name": "stdout",
     "output_type": "stream",
     "text": [
      "Optimized Edge Perspective Degree Distributions:\n",
      "λ(x) = [0.47960227 0.99999994 0.        ]\n",
      "ρ(x) = [9.99985363e-01 1.09713908e-01 2.37421668e-06]\n",
      "Best found threshold ε* = -0.21640709879988806\n"
     ]
    }
   ],
   "source": [
    "print(\"Optimized Edge Perspective Degree Distributions:\")\n",
    "print(\"λ(x) =\", lambda_opt)\n",
    "print(\"ρ(x) =\", rho_opt)\n",
    "\n",
    "threshold = density_evolution(0.5, lambda_opt, rho_opt)\n",
    "print(\"Best found threshold ε* =\", threshold)"
   ]
  },
  {
   "cell_type": "markdown",
   "metadata": {},
   "source": [
    "# b) Protograph Density Evolution:"
   ]
  },
  {
   "cell_type": "markdown",
   "metadata": {},
   "source": [
    "Protograph Design\n",
    "\n",
    "- Creating a base matrix (protograph) of size 6 × 24 that represents the connectivity of the LDPC code;\n",
    "- The base matrix should have a low density of 1's to ensure a sparse parity-check matrix;\n",
    "- Ensure that the base matrix satisfies the code rate constraint of 1/4."
   ]
  },
  {
   "cell_type": "code",
   "execution_count": 55,
   "metadata": {},
   "outputs": [],
   "source": [
    "def protograph_density_evolution(epsilon, base_matrix, max_iterations=100, tolerance=1e-6):\n",
    "    num_check_nodes, num_var_nodes = base_matrix.shape\n",
    "    x = np.ones(num_var_nodes) * epsilon\n",
    "    for _ in range(max_iterations):\n",
    "        x_prev = x.copy()\n",
    "        for j in range(num_check_nodes):\n",
    "            for i in range(num_var_nodes):\n",
    "                if base_matrix[j, i] == 1:\n",
    "                    x[i] = epsilon * (1 - np.prod(1 - x[base_matrix[j] == 1]))\n",
    "        if np.linalg.norm(x - x_prev) < tolerance:\n",
    "            break\n",
    "    return np.mean(x)\n",
    "\n",
    "\n",
    "def objective_function(base_matrix_flat, epsilon):\n",
    "    base_matrix = base_matrix_flat.reshape((6, 24))\n",
    "    return protograph_density_evolution(epsilon, base_matrix)"
   ]
  },
  {
   "cell_type": "markdown",
   "metadata": {},
   "source": [
    "### Optimization\n",
    "\n",
    "- Define an objective function that minimizes the decoding threshold $\\epsilon^*$ for the given base matrix;\n",
    "\n",
    "- Using the ``protograph_density_evolution`` function within the objective function;\n",
    "\n",
    "- Set up the optimization problem with the base matrix as the variable to optimize."
   ]
  },
  {
   "cell_type": "code",
   "execution_count": 56,
   "metadata": {},
   "outputs": [],
   "source": [
    "base_matrix_init = np.random.randint(0, 2, size=(6, 24))\n",
    "bounds = [(0, 1)] * (6 * 24)"
   ]
  },
  {
   "cell_type": "markdown",
   "metadata": {},
   "source": [
    "Perform the optimization"
   ]
  },
  {
   "cell_type": "code",
   "execution_count": 57,
   "metadata": {},
   "outputs": [],
   "source": [
    "result = minimize(objective_function, base_matrix_init.flatten(), args=(0.5,),\n",
    "                  method='SLSQP', bounds=bounds)\n",
    "\n",
    "optimized_base_matrix = result.x.reshape((6, 24))"
   ]
  },
  {
   "cell_type": "code",
   "execution_count": 58,
   "metadata": {},
   "outputs": [
    {
     "name": "stdout",
     "output_type": "stream",
     "text": [
      "Best found threshold ε* = 0.5\n"
     ]
    }
   ],
   "source": [
    "threshold = protograph_density_evolution(0.5, optimized_base_matrix)\n",
    "print(\"Best found threshold ε* =\", threshold)"
   ]
  },
  {
   "cell_type": "code",
   "execution_count": 59,
   "metadata": {},
   "outputs": [
    {
     "name": "stdout",
     "output_type": "stream",
     "text": [
      "Optimized Base Matrix:\n",
      "[[1.31180497e-12 0.00000000e+00 2.38334036e-15 2.12025398e-15\n",
      "  0.00000000e+00 6.49990745e-15 3.24324148e-16 9.99023439e-01\n",
      "  9.99023439e-01 9.99023439e-01 9.99023439e-01 1.69620318e-15\n",
      "  1.26666718e-15 2.16201032e-16 2.67456089e-16 2.54430477e-15\n",
      "  9.99023439e-01 0.00000000e+00 0.00000000e+00 2.54430477e-15\n",
      "  9.99023439e-01 9.99023439e-01 0.00000000e+00 9.99023439e-01]\n",
      " [2.12025398e-16 9.99023439e-01 5.07063695e-16 9.99023439e-01\n",
      "  9.99023439e-01 2.12025398e-15 9.99023439e-01 9.59343779e-16\n",
      "  9.93977945e-16 9.99023439e-01 0.00000000e+00 9.99023439e-01\n",
      "  8.80404599e-17 7.95095241e-17 5.08860954e-15 0.00000000e+00\n",
      "  0.00000000e+00 9.99023439e-01 9.99023439e-01 9.99023439e-01\n",
      "  9.99023439e-01 0.00000000e+00 9.99023439e-01 9.99023439e-01]\n",
      " [2.54430477e-15 8.48101590e-16 0.00000000e+00 9.99023439e-01\n",
      "  9.99023439e-01 1.69620318e-15 8.48101590e-16 0.00000000e+00\n",
      "  0.00000000e+00 0.00000000e+00 9.99023439e-01 0.00000000e+00\n",
      "  0.00000000e+00 0.00000000e+00 9.99023439e-01 9.99023439e-01\n",
      "  0.00000000e+00 9.99023439e-01 9.99023439e-01 0.00000000e+00\n",
      "  0.00000000e+00 9.99023439e-01 8.48101590e-16 9.99023439e-01]\n",
      " [7.32124903e-16 0.00000000e+00 9.99023439e-01 2.92931224e-16\n",
      "  9.03423483e-16 5.05894319e-16 9.49703201e-16 4.24050795e-16\n",
      "  9.99023439e-01 1.27215239e-15 9.99023439e-01 9.99023439e-01\n",
      "  9.99023439e-01 3.42207271e-16 0.00000000e+00 1.44117902e-15\n",
      "  0.00000000e+00 9.99023439e-01 8.48101590e-16 9.99023439e-01\n",
      "  9.99023439e-01 9.99023439e-01 9.99023439e-01 0.00000000e+00]\n",
      " [9.99023439e-01 9.99023439e-01 9.99023439e-01 3.39240636e-15\n",
      "  9.99023439e-01 9.99023439e-01 9.99023439e-01 9.99023439e-01\n",
      "  0.00000000e+00 0.00000000e+00 0.00000000e+00 9.99023439e-01\n",
      "  9.99023439e-01 9.99023439e-01 0.00000000e+00 9.99023439e-01\n",
      "  9.99023439e-01 9.99023439e-01 9.99023439e-01 0.00000000e+00\n",
      "  9.99023439e-01 0.00000000e+00 0.00000000e+00 0.00000000e+00]\n",
      " [0.00000000e+00 9.99023439e-01 0.00000000e+00 0.00000000e+00\n",
      "  0.00000000e+00 0.00000000e+00 9.99023439e-01 9.99023439e-01\n",
      "  0.00000000e+00 9.99023439e-01 9.99023439e-01 9.99023439e-01\n",
      "  9.99023439e-01 9.99023439e-01 0.00000000e+00 0.00000000e+00\n",
      "  9.99023439e-01 0.00000000e+00 9.99023439e-01 0.00000000e+00\n",
      "  9.99023439e-01 0.00000000e+00 9.99023439e-01 9.99023439e-01]]\n"
     ]
    }
   ],
   "source": [
    "print(\"Optimized Base Matrix:\")\n",
    "print(optimized_base_matrix)"
   ]
  }
 ],
 "metadata": {
  "kernelspec": {
   "display_name": "Python 3",
   "language": "python",
   "name": "python3"
  },
  "language_info": {
   "codemirror_mode": {
    "name": "ipython",
    "version": 3
   },
   "file_extension": ".py",
   "mimetype": "text/x-python",
   "name": "python",
   "nbconvert_exporter": "python",
   "pygments_lexer": "ipython3",
   "version": "3.11.1"
  }
 },
 "nbformat": 4,
 "nbformat_minor": 2
}
